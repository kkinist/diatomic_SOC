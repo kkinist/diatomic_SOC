{
 "cells": [
  {
   "cell_type": "code",
   "execution_count": 1,
   "metadata": {},
   "outputs": [],
   "source": [
    "#!/usr/bin/env python3\n",
    "\"\"\"\n",
    "Generate Molpro input that does SO-CI with MRCI done with separate\n",
    "blocks for each irrep, to minimize degeneracy-breaking. \n",
    "Requires Molpro CASSCF output. C2v symmedtry (4 irreps) is assumed. \n",
    "KKI 1/13/2022\n",
    "\"\"\"\n",
    "import re, sys, copy, pyperclip\n",
    "import numpy as np\n",
    "import pandas as pd\n",
    "from collections import Counter\n",
    "sys.path.insert(0, '../atomic_SOC')\n",
    "import molpro_subs as mpr\n",
    "import chem_subs as chem\n",
    "\n",
    "pd.set_option('display.width', 1000)\n",
    "too_many_records = 21   # having this many MRCI records will fail in SO-CI"
   ]
  },
  {
   "cell_type": "code",
   "execution_count": 52,
   "metadata": {},
   "outputs": [],
   "source": [
    "if True:\n",
    "    fdir = r'C:\\Users\\irikura\\OneDrive - NIST\\Karl\\PtO\\14S23T3Q\\\\'\n",
    "    froot = 'actz_r2p15.pro'\n",
    "    fdir = r'C:\\Users\\irikura\\OneDrive - NIST\\Karl\\PtO\\14S_17T_5Q\\\\'\n",
    "    froot = 'ac5z_r2p5.pro'\n",
    "else:\n",
    "    # alternative\n",
    "    rcode = 'r2p3500'\n",
    "    basis = 'ac5z'\n",
    "    fdir = r'C:\\Users\\irikura\\OneDrive - NIST\\Karl\\PtH_cation\\hybrid_stmrciq_PEC\\{:s}\\\\'.format(rcode)\n",
    "    froot = '{:s}_22S15T_{:s}_lz.pro'.format(basis, rcode)\n",
    "    froot = 'ac5z_soc1811_22S15T_lz.pro'"
   ]
  },
  {
   "cell_type": "code",
   "execution_count": 53,
   "metadata": {},
   "outputs": [],
   "source": [
    "style = 'Lz'  # choices: 'Lz', 'split', 'irrep', 'single'\n",
    "allECP = False   # whether all atoms have ECPs (with spin-orbit)"
   ]
  },
  {
   "cell_type": "code",
   "execution_count": 54,
   "metadata": {},
   "outputs": [
    {
     "name": "stdout",
     "output_type": "stream",
     "text": [
      "Will read CASSCF info from file: ac5z_r2p5.pro\n",
      "MRCI will be blocked by Lz\n"
     ]
    }
   ],
   "source": [
    "fcas = fdir + froot\n",
    "print('Will read CASSCF info from file: {:s}'.format(froot))\n",
    "if style == 'Lz':\n",
    "    print('MRCI will be blocked by Lz')\n",
    "elif style == 'split':\n",
    "    print('MRCI will be in blocks of similar size')\n",
    "elif style == 'irrep':\n",
    "    print('MRCI will be blocked simply by irrep')\n",
    "elif style == 'single':\n",
    "    print('Each MRCI will have one state')\n",
    "else:\n",
    "    print(f'bad choice for \"style\": {style}')\n",
    "    1/0"
   ]
  },
  {
   "cell_type": "code",
   "execution_count": 55,
   "metadata": {
    "scrolled": false
   },
   "outputs": [
    {
     "name": "stdout",
     "output_type": "stream",
     "text": [
      "Bond length = 2.5000\n",
      "14 active electrons, 6 closed (doubly-occupied) orbitals\n"
     ]
    }
   ],
   "source": [
    "try:\n",
    "    PG = mpr.read_point_group(fcas)\n",
    "except FileNotFoundError:\n",
    "    print('File not found!')\n",
    "    print('Here are the Molpro outputs in directory {:s}:'.format(fdir))\n",
    "    import glob\n",
    "    flist = glob.glob(fdir + '*.pro')\n",
    "    for f in flist:\n",
    "        print(f.split('\\\\')[-1])\n",
    "if PG != 'C2v':\n",
    "    print('Your calculation is in point group', PG)\n",
    "crd, lineno_crd = mpr.read_coordinates(fcas, linenum=True)\n",
    "if isinstance(crd, list):\n",
    "    crd = crd[-1]\n",
    "# get diatomic bond length\n",
    "G = chem.Geometry(crd, intype='DataFrame', units='bohr')\n",
    "G.toAngstrom()\n",
    "R = np.round(G.distance(0, 1), 6)  # round the bond length to 6 digits\n",
    "print('Bond length = {:.4f}'.format(R))\n",
    "caslist, lineno_cas = mpr.readMULTI(fcas, PG=PG, linenum=True)\n",
    "CAS = caslist[-1]   # assume the last CASSCF to be the relevant one\n",
    "#CAS.results = relabel_CAS_by_energy(CAS.results)\n",
    "print(f'{CAS.nactel()} active electrons, {CAS.nclosed} closed (doubly-occupied) orbitals')"
   ]
  },
  {
   "cell_type": "code",
   "execution_count": 56,
   "metadata": {},
   "outputs": [
    {
     "name": "stdout",
     "output_type": "stream",
     "text": [
      "LzLz values look clean\n"
     ]
    }
   ],
   "source": [
    "# check for non-integer Lz values\n",
    "cruft = abs(CAS.results.LzLz - np.round(CAS.results.LzLz, 0))\n",
    "if (cruft > 1.e-8).any():\n",
    "    print('*** There are non-integer values of LzLz')\n",
    "    print(f'    max deviation = {cruft.max()}')\n",
    "    display(CAS.results.sort_values('Energy'))\n",
    "    #print(cruft)\n",
    "else:\n",
    "    print('LzLz values look clean')"
   ]
  },
  {
   "cell_type": "raw",
   "metadata": {},
   "source": [
    "sp = 'Singlet'; ir = 4\n",
    "CAS.results[(CAS.results.Spin == sp) & (CAS.results.Irrep == ir)].sort_values('Energy')\n",
    "#CAS.results.sort_values(['Spin', 'Irrep', 'Energy'])"
   ]
  },
  {
   "cell_type": "code",
   "execution_count": 57,
   "metadata": {},
   "outputs": [
    {
     "name": "stdout",
     "output_type": "stream",
     "text": [
      "5 Quintet states\n",
      "\t Counter({'5Δ': 2, '5Φ': 2, '5Σ-': 1})\n",
      "14 Singlet states\n",
      "\t Counter({'1Π': 6, '1Σ+': 2, '1Δ': 2, '1Φ': 2, '1Σ-': 2})\n",
      "17 Triplet states\n",
      "\t Counter({'3Δ': 6, '3Π': 6, '3Φ': 2, '3Σ-': 2, '3Σ+': 1})\n"
     ]
    }
   ],
   "source": [
    "# report number of states in each spin multiplicity\n",
    "LS_got = dict()\n",
    "for S, grp in CAS.results.groupby('Spin'):\n",
    "    print(f'{len(grp)} {S} states')\n",
    "    print('\\t', Counter(grp.Term))\n",
    "    LS_got.update(Counter(grp.Term))"
   ]
  },
  {
   "cell_type": "code",
   "execution_count": 58,
   "metadata": {},
   "outputs": [
    {
     "name": "stdout",
     "output_type": "stream",
     "text": [
      "For PtO, checking for desired terms in CASSCF\n",
      "   looks good\n"
     ]
    }
   ],
   "source": [
    "if True:\n",
    "    # this is only for PtO calculations, to check for same terms across the PEC\n",
    "    LS_target = {'5Δ': 2, '5Π': 2, '5Φ': 2, '5Σ-': 1}\n",
    "    LS_target.update({'1Π': 4, '1Δ': 2, '1Φ': 2, '1Σ+': 1, '1Σ-': 1})\n",
    "    LS_target.update({'3Δ': 6, '3Π': 6, '3Φ': 2, '3Σ-': 2, '3Σ+': 1})\n",
    "    if '10S_19T_7Q' in fdir:\n",
    "        LS_target['3Σ-'] = 3; LS_target['3Σ+'] = 2\n",
    "    if '11S_19T_7Q' in fdir:\n",
    "        LS_target['3Δ'] = 8; LS_target['1Π'] = 6; LS_target['1Σ-'] = 0\n",
    "    if '14S_17T_5Q' in fdir:\n",
    "        LS_target.update({'1Π': 6, '1Δ': 2, '1Φ': 2, '1Σ+': 2, '1Σ-': 2})\n",
    "        LS_target.update({'3Δ': 6, '3Π': 6, '3Φ': 2, '3Σ-': 2, '3Σ+': 1})\n",
    "        LS_target = {'5Δ': 2, '5Π': 0, '5Φ': 2, '5Σ-': 1}\n",
    "    # compare with current calculation\n",
    "    print('For PtO, checking for desired terms in CASSCF')\n",
    "    nwrong = 0\n",
    "    for k, v in LS_target.items():\n",
    "        got = LS_got.get(k, 0)\n",
    "        if v != got:\n",
    "            print(f'  {k}:  got {got} instead of {v}')\n",
    "            nwrong += abs(v - got)\n",
    "    if nwrong:\n",
    "        print(f'   {nwrong} states are wrong')\n",
    "    else:\n",
    "        print('   looks good')"
   ]
  },
  {
   "cell_type": "code",
   "execution_count": 59,
   "metadata": {
    "scrolled": true
   },
   "outputs": [],
   "source": [
    "casdf = CAS.results[['Irrep', 'Label', 'Energy', 'Term']].copy()\n",
    "casdf['S'] = [chem.spinname(x)-1 for x in CAS.results.Spin]\n",
    "#display(CAS.results.sort_values(['Spin', 'LzLz', 'Energy']))"
   ]
  },
  {
   "cell_type": "code",
   "execution_count": 60,
   "metadata": {},
   "outputs": [],
   "source": [
    "# Round sqrt(LzLz) values to integers\n",
    "casdf['Lz'] = np.round(np.sqrt(np.abs(CAS.results.LzLz)), 0).astype(int)\n",
    "spin = sorted(set(casdf.S))\n",
    "irreps = sorted(set(CAS.results.Irrep))\n",
    "lzvals = sorted(set(casdf.Lz))"
   ]
  },
  {
   "cell_type": "code",
   "execution_count": 61,
   "metadata": {
    "scrolled": false
   },
   "outputs": [
    {
     "name": "stdout",
     "output_type": "stream",
     "text": [
      "All term pairs are closed\n"
     ]
    }
   ],
   "source": [
    "# check for proper pairing of degenerate states\n",
    "broken = False\n",
    "for (s, lz), dfg in casdf.groupby(['S', 'Lz']):\n",
    "    if lz == 0:\n",
    "        # ignore Sigma states\n",
    "        continue\n",
    "    # number in each irrep should be equal\n",
    "    grpi = dfg.groupby('Irrep')\n",
    "    lens = grpi.size().values\n",
    "    if (len(lens) < 2) or (lens[0] != lens[1]):\n",
    "        print('Broken pair somewhere')\n",
    "        display(dfg.sort_values('Energy'))\n",
    "        if len(lens) == 1:\n",
    "            # display the complementary irrep\n",
    "            ir = list(grpi.groups.keys())[0]\n",
    "            print('all states with this spin and irrep:')\n",
    "            display(casdf[(casdf.S == s) & (casdf.Irrep == ir)])\n",
    "            print('complementary irrep:')\n",
    "            cir = [0, 4, 3, 2, 1][ir]\n",
    "            display(casdf[(casdf.S == s) & (casdf.Irrep == cir)])\n",
    "        broken = True\n",
    "if not broken:\n",
    "    print('All term pairs are closed')"
   ]
  },
  {
   "cell_type": "code",
   "execution_count": 62,
   "metadata": {
    "scrolled": false
   },
   "outputs": [
    {
     "name": "stdout",
     "output_type": "stream",
     "text": [
      "14 states with S = 0/2 (Singlet)\n",
      "17 states with S = 2/2 (Triplet)\n",
      "5 states with S = 4/2 (Quintet)\n"
     ]
    }
   ],
   "source": [
    "# order the CASSCF states by energy within each (S, irrep) group\n",
    "newdf = None\n",
    "for lbl, dg in casdf.groupby(['S', 'Irrep']):\n",
    "    dt = dg.copy().sort_values('Energy').reset_index(drop=True)\n",
    "    if newdf is None:\n",
    "        newdf = dt\n",
    "    else:\n",
    "        newdf = pd.concat([newdf, dt])\n",
    "# report number of states in each spin multiplicity\n",
    "for S, grp in newdf.groupby('S'):\n",
    "    print(f'{len(grp)} states with S = {S}/2 ({chem.SPINLABEL[S+1]})')"
   ]
  },
  {
   "cell_type": "code",
   "execution_count": 63,
   "metadata": {},
   "outputs": [],
   "source": [
    "def finish_line():\n",
    "    # only use record suffix \"2\" as recommended by D. Kreplin\n",
    "    global line, linebuf, nstprev, records, iblock, count, nstmax\n",
    "    suf = 2\n",
    "    recnum = (5 + S//2) * 1000 + irrep*100 + iblock + 0.1*suf\n",
    "    line += f'; save,{recnum};'\n",
    "    if nstati:\n",
    "        line += f' option,nstati={nstati}'\n",
    "    line += '};'\n",
    "    records.append(recnum)\n",
    "    iblock += 1\n",
    "    if nst > 1: \n",
    "        if nst != nstprev:\n",
    "            linebuf.append(f'nst={nst}')\n",
    "            nstprev = nst\n",
    "        line += ' savemany'\n",
    "    else:\n",
    "        line += ' save1'\n",
    "    linebuf.append(line)\n",
    "    count += nst\n",
    "    nstmax = max(nstmax, nst)\n",
    "    return"
   ]
  },
  {
   "cell_type": "code",
   "execution_count": 64,
   "metadata": {},
   "outputs": [],
   "source": [
    "# lines to be added to the Molpro CASSCF input file\n",
    "linebufhdr = ['! Code below generated by build_split_mrci_input.ipynb using style \"{:s}\"'.format(style),\n",
    "           '!    from file {:s}'.format(froot.split()[0]), '', 'ecas = energy', 'k=0']\n",
    "linebuf = linebufhdr.copy()"
   ]
  },
  {
   "cell_type": "code",
   "execution_count": 65,
   "metadata": {
    "scrolled": false
   },
   "outputs": [
    {
     "name": "stdout",
     "output_type": "stream",
     "text": [
      "*** Too many records: 21 ***\n",
      "*** combining Lz values within irreps 2 and 3 ***\n"
     ]
    }
   ],
   "source": [
    "if style == 'Lz':\n",
    "    records = []  # record labels for saving states\n",
    "    maxit = 60  # for the MRCI\n",
    "    baseline = '{ci,' + f'maxit={maxit}; '\n",
    "    count = 0  # count of states (to be compared with input CASSCF count)\n",
    "    nstprev = 1\n",
    "    nstmax = 0\n",
    "    for S in spin:\n",
    "        spindf = newdf[newdf.S == S]\n",
    "        for irrep in irreps:\n",
    "            irrdf = spindf[spindf.Irrep == irrep].copy().reset_index(drop=True)\n",
    "            #display(irrdf)\n",
    "            nstati = len(irrdf)\n",
    "            iblock = 1   # suffix for record label\n",
    "            for lz in lzvals:\n",
    "                # build one line of input\n",
    "                lzdf = irrdf[irrdf.Lz == lz]\n",
    "                nst = len(lzdf)\n",
    "                count += nst\n",
    "                nstmax = max(nstmax, nst)\n",
    "                if nst < 1:\n",
    "                    continue\n",
    "                line = baseline + f'wf,sym={irrep},spin={S}; state,{nst}'\n",
    "                for i in lzdf.index:\n",
    "                    line += ',' + '{:d}'.format(int(i) + 1)\n",
    "                recnum = (5 + S//2)*1000 + irrep*100 + iblock + 0.2\n",
    "                records.append(recnum)\n",
    "                iblock += 1\n",
    "                line += f'; save,{recnum}; option,nstati={nstati}' + '};'\n",
    "                if nst == 1:\n",
    "                    line += ' save1;'\n",
    "                else:\n",
    "                    if nst != nstprev:\n",
    "                        linebuf.append(f'nst={nst}')\n",
    "                        nstprev = nst\n",
    "                    line += ' savemany;'\n",
    "                # add the comment\n",
    "                pre = '{:d}-'.format(S + 1)\n",
    "                if lz == 0:\n",
    "                    if irrep == 1:\n",
    "                        line += f'  ! {pre}Sigma+'\n",
    "                    elif irrep == 4:\n",
    "                        line += f'  ! {pre}Sigma-'\n",
    "                    else:\n",
    "                        chem.print_err('', f'Bad irrep = {irrep} for Lz = 0')\n",
    "                else:\n",
    "                    line += f'  ! {pre}{mpr.LAMBDA[lz].title()}'\n",
    "                linebuf.append(line)\n",
    "    if len(records) >= too_many_records:\n",
    "        print(f'*** Too many records: {len(records)} ***')\n",
    "        print('*** combining Lz values within irreps 2 and 3 ***')"
   ]
  },
  {
   "cell_type": "code",
   "execution_count": 66,
   "metadata": {
    "scrolled": false
   },
   "outputs": [
    {
     "name": "stdout",
     "output_type": "stream",
     "text": [
      "*** setting style = Lz_condensed ***\n",
      "There are 17 records after condensing irreps 2 and 3.\n"
     ]
    }
   ],
   "source": [
    "if style == 'Lz' and len(records) >= too_many_records:\n",
    "    style = 'Lz_condensed'\n",
    "    print(f'*** setting style = {style} ***')\n",
    "    linebufhdr[0] = linebufhdr[0].replace('Lz', 'Lz_condensed')\n",
    "    linebuf = linebufhdr.copy()\n",
    "    records = []  # record labels for saving states\n",
    "    maxit = 60  # for the MRCI\n",
    "    baseline = '{ci,' + f'maxit={maxit}; '\n",
    "    count = 0  # count of states (to be compared with input CASSCF count)\n",
    "    nstprev = 1\n",
    "    nstmax = 0\n",
    "    for S in spin:\n",
    "        spindf = newdf[newdf.S == S]\n",
    "        for irrep in irreps:\n",
    "            irrdf = spindf[spindf.Irrep == irrep].copy().reset_index(drop=True)\n",
    "            #display(irrdf)\n",
    "            nstati = len(irrdf)\n",
    "            iblock = 1   # suffix for record label\n",
    "            if irrep in [2, 3]:\n",
    "                # combine all Lz values together\n",
    "                # build one line of input\n",
    "                nst = len(irrdf)\n",
    "                count += nst\n",
    "                nstmax = max(nstmax, nst)\n",
    "                if nst < 1:\n",
    "                    continue\n",
    "                line = baseline + f'wf,sym={irrep},spin={S}; state,{nst}'\n",
    "                for i in irrdf.index:\n",
    "                    line += ',' + '{:d}'.format(int(i) + 1)\n",
    "                recnum = (5 + S//2)*1000 + irrep*100 + iblock + 0.2\n",
    "                records.append(recnum)\n",
    "                iblock += 1\n",
    "                line += f'; save,{recnum}; option,nstati={nstati}' + '};'\n",
    "                if nst == 1:\n",
    "                    line += ' save1;'\n",
    "                else:\n",
    "                    if nst != nstprev:\n",
    "                        linebuf.append(f'nst={nst}')\n",
    "                        nstprev = nst\n",
    "                    line += ' savemany;'\n",
    "                # add the comment\n",
    "                #pre = '{:d}-'.format(S + 1)\n",
    "                line += f'  ! {set(irrdf.Term)}'\n",
    "                linebuf.append(line)\n",
    "            else:\n",
    "                # each Lz value alone\n",
    "                for lz in lzvals:\n",
    "                    # build one line of input\n",
    "                    lzdf = irrdf[irrdf.Lz == lz]\n",
    "                    nst = len(lzdf)\n",
    "                    count += nst\n",
    "                    nstmax = max(nstmax, nst)\n",
    "                    if nst < 1:\n",
    "                        continue\n",
    "                    line = baseline + f'wf,sym={irrep},spin={S}; state,{nst}'\n",
    "                    for i in lzdf.index:\n",
    "                        line += ',' + '{:d}'.format(int(i) + 1)\n",
    "                    recnum = (5 + S//2)*1000 + irrep*100 + iblock + 0.2\n",
    "                    records.append(recnum)\n",
    "                    iblock += 1\n",
    "                    line += f'; save,{recnum}; option,nstati={nstati}' + '};'\n",
    "                    if nst == 1:\n",
    "                        line += ' save1;'\n",
    "                    else:\n",
    "                        if nst != nstprev:\n",
    "                            linebuf.append(f'nst={nst}')\n",
    "                            nstprev = nst\n",
    "                        line += ' savemany;'\n",
    "                    # add the comment\n",
    "                    pre = '{:d}-'.format(S + 1)\n",
    "                    if lz == 0:\n",
    "                        if irrep == 1:\n",
    "                            line += f'  ! {pre}Sigma+'\n",
    "                        elif irrep == 4:\n",
    "                            line += f'  ! {pre}Sigma-'\n",
    "                        else:\n",
    "                            chem.print_err('', f'Bad irrep = {irrep} for Lz = 0')\n",
    "                    else:\n",
    "                        line += f'  ! {pre}{mpr.LAMBDA[lz].title()}'\n",
    "                    linebuf.append(line)\n",
    "    print(f'There are {len(records)} records after condensing irreps 2 and 3.')\n",
    "    if len(records) >= too_many_records:\n",
    "        print(f'*** Still too many records: {len(records)} ***')"
   ]
  },
  {
   "cell_type": "code",
   "execution_count": 67,
   "metadata": {
    "scrolled": false
   },
   "outputs": [],
   "source": [
    "if style == 'split':\n",
    "    # assume that irreps 2 and 3 are already equal\n",
    "    records = []  # record labels for saving states\n",
    "    maxit = 60  # for the MRCI\n",
    "    baseline = '{ci,' + f'maxit={maxit}; '\n",
    "    count = 0  # count of states (to be compared with input CASSCF count)\n",
    "    nstprev = 1\n",
    "    nstmax = 0\n",
    "       \n",
    "    for S in spin:\n",
    "        spindf = newdf[newdf.S == S]\n",
    "        nstate = {}\n",
    "        irrdf = {}\n",
    "        for irrep in irreps:\n",
    "            # count the states in each irrep\n",
    "            tdf = spindf[spindf.Irrep == irrep].copy()\n",
    "            tdf = tdf.sort_values('Energy').reset_index(drop=True)\n",
    "            nstate[irrep] = len(tdf)\n",
    "            irrdf[irrep] = tdf\n",
    "        for irrep in irreps:\n",
    "            iblock = 1   # part of record number\n",
    "            nstati = 0   # don't need nstati\n",
    "            if (irrep in [2, 3]) or (nstate[irrep] < nstate[5-irrep]):\n",
    "                # easy case\n",
    "                nst = nstate[irrep]\n",
    "                line = baseline + f'wf,sym={irrep},spin={S}; state,{nst}'\n",
    "            else:\n",
    "                # irrep 1 or 4, larger block\n",
    "                # split this block; try to keep Lz > 0 in the larger block\n",
    "                otherblock = nstate[5-irrep]  # the size of the other irrep \n",
    "                nstati = nstate[irrep]\n",
    "                tdf = irrdf[irrep]\n",
    "                # put Lz > 0 first, then sigmas\n",
    "                iord = list(tdf[tdf.Lz > 0].index)\n",
    "                iord = iord + list(tdf[tdf.Lz == 0].index)\n",
    "                # make a block of same size as 'otherblock'\n",
    "                idx = iord[:otherblock]\n",
    "                iord = iord[otherblock:]\n",
    "                nst = otherblock\n",
    "                line = baseline + f'wf,sym={irrep},spin={S}; state,{nst}'\n",
    "                for i in idx:\n",
    "                    line += ',{:d}'.format(i+1)\n",
    "                finish_line()\n",
    "                # put the rest in a second block\n",
    "                nst = len(iord)\n",
    "                line = baseline + f'wf,sym={irrep},spin={S}; state,{nst}'\n",
    "                for i in iord:\n",
    "                    line += ',{:d}'.format(i+1)\n",
    "            finish_line()        \n",
    " "
   ]
  },
  {
   "cell_type": "code",
   "execution_count": 68,
   "metadata": {
    "scrolled": false
   },
   "outputs": [],
   "source": [
    "if style == 'irrep':\n",
    "    # simple treatment, one block for each irrep \n",
    "    records = []  # record labels for saving states\n",
    "    maxit = 60  # for the MRCI\n",
    "    baseline = '{ci,' + f'maxit={maxit}; '\n",
    "    count = 0  # count of states (to be compared with input CASSCF count)\n",
    "    nstprev = 1\n",
    "    nstmax = 0\n",
    "       \n",
    "    for S in spin:\n",
    "        spindf = newdf[newdf.S == S]\n",
    "        nstate = {}\n",
    "        irrdf = {}\n",
    "        for irrep in irreps:\n",
    "            # count the states in each irrep\n",
    "            tdf = spindf[spindf.Irrep == irrep].copy()\n",
    "            tdf = tdf.sort_values('Energy').reset_index(drop=True)\n",
    "            nstate[irrep] = len(tdf)\n",
    "            irrdf[irrep] = tdf\n",
    "        for irrep in irreps:\n",
    "            iblock = 1   # part of record number\n",
    "            nstati = 0   # don't need nstati\n",
    "            nst = nstate[irrep]\n",
    "            line = baseline + f'wf,sym={irrep},spin={S}; state,{nst}'\n",
    "            finish_line()         "
   ]
  },
  {
   "cell_type": "code",
   "execution_count": 69,
   "metadata": {
    "scrolled": false
   },
   "outputs": [],
   "source": [
    "if style == 'single':\n",
    "    # each MRCI has only one root\n",
    "    records = []  # record labels for saving states\n",
    "    maxit = 60  # for the MRCI\n",
    "    baseline = '{ci,' + f'maxit={maxit}; '\n",
    "    count = 0  # count of states (to be compared with input CASSCF count)\n",
    "    nstprev = 1\n",
    "    nstmax = 0\n",
    "    \n",
    "    nst = 1\n",
    "    for S in spin:\n",
    "        spindf = newdf[newdf.S == S]\n",
    "        nstate = {}\n",
    "        irrdf = {}\n",
    "        for irrep in irreps:\n",
    "            tdf = spindf[spindf.Irrep == irrep]\n",
    "            nstati = len(tdf)\n",
    "            iblock = 1   # part of record number\n",
    "            for i in range(nstati):\n",
    "                line = baseline + f'wf,sym={irrep},spin={S}; state,1,{i+1}'\n",
    "                finish_line()         "
   ]
  },
  {
   "cell_type": "code",
   "execution_count": 70,
   "metadata": {},
   "outputs": [],
   "source": [
    "linebuf.append('\\ntable,hlsdiag,lzlz,ecas,eref,ediff\\n')"
   ]
  },
  {
   "cell_type": "code",
   "execution_count": 71,
   "metadata": {},
   "outputs": [],
   "source": [
    "linebuf.append('! spin-orbit CI\\n')\n",
    "linebuf.append('lsint   ! workaround for error \"TRYING TO READ BEYOND RECORD BOUNDARY\"')\n",
    "if allECP:\n",
    "    linebuf.append('{ci; hlsmat,ecp, \\\\')\n",
    "else:\n",
    "    linebuf.append('{ci; hlsmat,ls, \\\\')"
   ]
  },
  {
   "cell_type": "code",
   "execution_count": 72,
   "metadata": {},
   "outputs": [],
   "source": [
    "# add the record numbers to the SO-CI section\n",
    "nline = 10  # number of records per line\n",
    "line = None\n",
    "for i, rec in enumerate(records):\n",
    "    if i % nline == 0:\n",
    "        if line is not None:\n",
    "            if i == len(records) - 1:\n",
    "                # terminate with semicolon\n",
    "                linebuf.append(line + '; \\\\')\n",
    "            else:\n",
    "                # terminate with comma\n",
    "                linebuf.append(line + ', \\\\')\n",
    "        line = '    '\n",
    "    else:\n",
    "        line += ','\n",
    "    line += f'{rec}'\n",
    "linebuf.append(line)"
   ]
  },
  {
   "cell_type": "code",
   "execution_count": 73,
   "metadata": {},
   "outputs": [],
   "source": [
    "# hls=1 prints the entire dipole matrix\n",
    "linebuf.append('    options,matel=1; print,vls=0,hls=1}')"
   ]
  },
  {
   "cell_type": "code",
   "execution_count": 74,
   "metadata": {},
   "outputs": [],
   "source": [
    "procs_text = '''\n",
    "PROC save1\n",
    "    k=k+1\n",
    "    hlsdiag(k)=energd\n",
    "    eref(k)=energr\n",
    "    ediff(k)=energr-ecas(k)\n",
    "ENDPROC\n",
    "\n",
    "PROC savemany\n",
    "    do h=1,NST\n",
    "        k=k+1\n",
    "        hlsdiag(k)=energd4(h)\n",
    "        eref(k)=energr(h)\n",
    "        ediff(k)=energr(h)-ecas(k)\n",
    "    enddo\n",
    "ENDPROC\n",
    "'''"
   ]
  },
  {
   "cell_type": "code",
   "execution_count": 75,
   "metadata": {
    "scrolled": true
   },
   "outputs": [
    {
     "name": "stdout",
     "output_type": "stream",
     "text": [
      "! Code below generated by build_split_mrci_input.ipynb using style \"Lz_condensed\"\n",
      "!    from file ac5z_r2p5.pro\n",
      "\n",
      "ecas = energy\n",
      "k=0\n",
      "nst=2\n",
      "{ci,maxit=60; wf,sym=1,spin=0; state,2,2,3; save,5101.2; option,nstati=3}; savemany;  ! 1-Sigma+\n",
      "{ci,maxit=60; wf,sym=1,spin=0; state,1,1; save,5102.2; option,nstati=3}; save1;  ! 1-Delta\n",
      "nst=4\n",
      "{ci,maxit=60; wf,sym=2,spin=0; state,4,1,2,3,4; save,5201.2; option,nstati=4}; savemany;  ! {'1Π', '1Φ'}\n",
      "{ci,maxit=60; wf,sym=3,spin=0; state,4,1,2,3,4; save,5301.2; option,nstati=4}; savemany;  ! {'1Π', '1Φ'}\n",
      "nst=2\n",
      "{ci,maxit=60; wf,sym=4,spin=0; state,2,2,3; save,5401.2; option,nstati=3}; savemany;  ! 1-Sigma-\n",
      "{ci,maxit=60; wf,sym=4,spin=0; state,1,1; save,5402.2; option,nstati=3}; save1;  ! 1-Delta\n",
      "{ci,maxit=60; wf,sym=1,spin=2; state,1,2; save,6101.2; option,nstati=4}; save1;  ! 3-Sigma+\n",
      "nst=3\n",
      "{ci,maxit=60; wf,sym=1,spin=2; state,3,1,3,4; save,6102.2; option,nstati=4}; savemany;  ! 3-Delta\n",
      "nst=4\n",
      "{ci,maxit=60; wf,sym=2,spin=2; state,4,1,2,3,4; save,6201.2; option,nstati=4}; savemany;  ! {'3Π', '3Φ'}\n",
      "{ci,maxit=60; wf,sym=3,spin=2; state,4,1,2,3,4; save,6301.2; option,nstati=4}; savemany;  ! {'3Π', '3Φ'}\n",
      "nst=2\n",
      "{ci,maxit=60; wf,sym=4,spin=2; state,2,1,3; save,6401.2; option,nstati=5}; savemany;  ! 3-Sigma-\n",
      "nst=3\n",
      "{ci,maxit=60; wf,sym=4,spin=2; state,3,2,4,5; save,6402.2; option,nstati=5}; savemany;  ! 3-Delta\n",
      "{ci,maxit=60; wf,sym=1,spin=4; state,1,1; save,7101.2; option,nstati=1}; save1;  ! 5-Delta\n",
      "{ci,maxit=60; wf,sym=2,spin=4; state,1,1; save,7201.2; option,nstati=1}; save1;  ! {'5Φ'}\n",
      "{ci,maxit=60; wf,sym=3,spin=4; state,1,1; save,7301.2; option,nstati=1}; save1;  ! {'5Φ'}\n",
      "{ci,maxit=60; wf,sym=4,spin=4; state,1,1; save,7401.2; option,nstati=2}; save1;  ! 5-Sigma-\n",
      "{ci,maxit=60; wf,sym=4,spin=4; state,1,2; save,7402.2; option,nstati=2}; save1;  ! 5-Delta\n",
      "\n",
      "table,hlsdiag,lzlz,ecas,eref,ediff\n",
      "\n",
      "! spin-orbit CI\n",
      "\n",
      "lsint   ! workaround for error \"TRYING TO READ BEYOND RECORD BOUNDARY\"\n",
      "{ci; hlsmat,ls, \\\n",
      "    5101.2,5102.2,5201.2,5301.2,5401.2,5402.2,6101.2,6102.2,6201.2,6301.2, \\\n",
      "    6401.2,6402.2,7101.2,7201.2,7301.2,7401.2,7402.2\n",
      "    options,matel=1; print,vls=0,hls=1}\n",
      "\n",
      "PROC save1\n",
      "    k=k+1\n",
      "    hlsdiag(k)=energd\n",
      "    eref(k)=energr\n",
      "    ediff(k)=energr-ecas(k)\n",
      "ENDPROC\n",
      "\n",
      "PROC savemany\n",
      "    do h=1,NST\n",
      "        k=k+1\n",
      "        hlsdiag(k)=energd4(h)\n",
      "        eref(k)=energr(h)\n",
      "        ediff(k)=energr(h)-ecas(k)\n",
      "    enddo\n",
      "ENDPROC\n",
      "\n"
     ]
    }
   ],
   "source": [
    "linebuf.append(procs_text)\n",
    "print('\\n'.join(linebuf))"
   ]
  },
  {
   "cell_type": "code",
   "execution_count": 76,
   "metadata": {},
   "outputs": [
    {
     "name": "stdout",
     "output_type": "stream",
     "text": [
      "Use the text above to calculate 36 MRCI states.\n",
      "There are 17 MRCI calculations.\n",
      "The largest has 4 roots.\n",
      "CASSCF results were taken from:  ac5z_r2p5.pro\n",
      "Blocking style is \"Lz_condensed\"\n",
      "Bond length = 2.5000\n"
     ]
    }
   ],
   "source": [
    "if count != len(casdf):\n",
    "    print(f'*** Error:  there are {len(casdf)} CASSCF states but {count} CI states! ***')\n",
    "else:\n",
    "    print(f'Use the text above to calculate {count} MRCI states.')\n",
    "    pyperclip.copy('\\n'.join(linebuf))\n",
    "    print(f'There are {len(records)} MRCI calculations.')\n",
    "    print(f'The largest has {nstmax} roots.')\n",
    "    print(f'CASSCF results were taken from:  {froot}')\n",
    "    print(f'Blocking style is \"{style}\"')\n",
    "    print('Bond length = {:.4f}'.format(R))"
   ]
  },
  {
   "cell_type": "code",
   "execution_count": 77,
   "metadata": {},
   "outputs": [
    {
     "ename": "ZeroDivisionError",
     "evalue": "division by zero",
     "output_type": "error",
     "traceback": [
      "\u001b[1;31m---------------------------------------------------------------------------\u001b[0m",
      "\u001b[1;31mZeroDivisionError\u001b[0m                         Traceback (most recent call last)",
      "Cell \u001b[1;32mIn[77], line 1\u001b[0m\n\u001b[1;32m----> 1\u001b[0m \u001b[38;5;241m1\u001b[39m\u001b[38;5;241m/\u001b[39m\u001b[38;5;241m0\u001b[39m\n",
      "\u001b[1;31mZeroDivisionError\u001b[0m: division by zero"
     ]
    }
   ],
   "source": [
    "1/0"
   ]
  },
  {
   "cell_type": "markdown",
   "metadata": {},
   "source": [
    "## LQUANT help (C2v)"
   ]
  },
  {
   "cell_type": "code",
   "execution_count": null,
   "metadata": {},
   "outputs": [],
   "source": [
    "# Specify the numbers of terms below\n",
    "terms = {'Sigma+': 0, 'Sigma-': 2, 'Pi': 1, 'Delta': 2, 'Phi': 1, 'Gamma': 0}\n",
    "terms['H'] = 0  # usually"
   ]
  },
  {
   "cell_type": "code",
   "execution_count": null,
   "metadata": {},
   "outputs": [],
   "source": [
    "print('Input:')\n",
    "for k, v in terms.items():\n",
    "    print('\\t{:<7s} {:2d}'.format(k, v))\n",
    "nterm = np.sum([v for k, v in terms.items()])\n",
    "print(f'{nterm} terms')\n",
    "lquant = {irr: ['lquant'] for irr in [1,2,3,4]}\n",
    "lquant[1] += ['0']*terms['Sigma+'] + ['2']*terms['Delta'] + ['4']*terms['Gamma']\n",
    "lquant[2] += ['1']*terms['Pi'] + ['3']*terms['Phi'] + ['5']*terms['H']\n",
    "lquant[3] = lquant[2]\n",
    "lquant[4] += ['0']*terms['Sigma-'] + ['2']*terms['Delta'] + ['4']*terms['Gamma']\n",
    "count = [len(v)-1 for k, v in lquant.items()]\n",
    "ntot = np.sum(count)\n",
    "print(f'{ntot} MRCI states')\n",
    "print('In order by irrep:')\n",
    "for k, v in lquant.items():\n",
    "    s = ','.join(v)\n",
    "    print(f'state,{count[int(k)-1]}; {s}')"
   ]
  },
  {
   "cell_type": "code",
   "execution_count": null,
   "metadata": {},
   "outputs": [],
   "source": []
  },
  {
   "cell_type": "code",
   "execution_count": null,
   "metadata": {},
   "outputs": [],
   "source": []
  }
 ],
 "metadata": {
  "kernelspec": {
   "display_name": "Python 3 (ipykernel)",
   "language": "python",
   "name": "python3"
  },
  "language_info": {
   "codemirror_mode": {
    "name": "ipython",
    "version": 3
   },
   "file_extension": ".py",
   "mimetype": "text/x-python",
   "name": "python",
   "nbconvert_exporter": "python",
   "pygments_lexer": "ipython3",
   "version": "3.11.4"
  }
 },
 "nbformat": 4,
 "nbformat_minor": 4
}
