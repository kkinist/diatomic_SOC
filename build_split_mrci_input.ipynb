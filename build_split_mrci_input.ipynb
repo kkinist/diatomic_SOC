{
 "cells": [
  {
   "cell_type": "code",
   "execution_count": 105,
   "metadata": {},
   "outputs": [],
   "source": [
    "#!/usr/bin/env python3\n",
    "\"\"\"\n",
    "Generate Molpro SO-CI input that does MRCI with separate\n",
    "blocks for each irrep, to minimize degeneracy-breaking. \n",
    "Requires Molpro CASSCF output.\n",
    "C2v symmetry (4 irreps) is assumed. \n",
    "KKI 1/13/2022\n",
    "\"\"\"\n",
    "import re, sys, copy, pyperclip\n",
    "import numpy as np\n",
    "import pandas as pd\n",
    "sys.path.insert(0, '../atomic_SOC')\n",
    "import molpro_subs as mpr\n",
    "import chem_subs as chem\n",
    "\n",
    "pd.set_option('display.width', 1000)"
   ]
  },
  {
   "cell_type": "markdown",
   "metadata": {},
   "source": [
    "### Specify CASSCF file, and how MRCI should be blocked"
   ]
  },
  {
   "cell_type": "code",
   "execution_count": 111,
   "metadata": {},
   "outputs": [],
   "source": [
    "style = 'Lz'  # choices: 'Lz', 'split', 'irrep', 'single'\n",
    "\n",
    "fcas = 'ac5z_35D15Q_r1p5400_lz.pro'\n",
    "fcas = '../UMemphis/mgcl_small4_c2.pro'"
   ]
  },
  {
   "cell_type": "code",
   "execution_count": 112,
   "metadata": {},
   "outputs": [
    {
     "name": "stdout",
     "output_type": "stream",
     "text": [
      "Will read CASSCF info from file: ../UMemphis/mgcl_small4_c2.pro\n",
      "MRCI will be blocked by Lz\n"
     ]
    }
   ],
   "source": [
    "print('Will read CASSCF info from file: {:s}'.format(fcas))\n",
    "if style == 'Lz':\n",
    "    print('MRCI will be blocked by Lz')\n",
    "elif style == 'split':\n",
    "    print('MRCI will be in blocks of similar size')\n",
    "elif style == 'irrep':\n",
    "    print('MRCI will be blocked simply by irrep')\n",
    "elif style == 'single':\n",
    "    print('Each MRCI will have one state')\n",
    "else:\n",
    "    print('bad choice for \"style\"')\n",
    "    1/0"
   ]
  },
  {
   "cell_type": "code",
   "execution_count": 113,
   "metadata": {
    "scrolled": false
   },
   "outputs": [
    {
     "name": "stdout",
     "output_type": "stream",
     "text": [
      "Your calculation is in point group C2\n",
      "Bond length = 2.3000\n"
     ]
    }
   ],
   "source": [
    "try:\n",
    "    PG = mpr.read_point_group(fcas)\n",
    "except FileNotFoundError:\n",
    "    print('File not found!')\n",
    "    print('Here are the Molpro outputs in directory {:s}:'.format(fdir))\n",
    "    import glob\n",
    "    flist = glob.glob(fdir + '*.pro')\n",
    "    for f in flist:\n",
    "        print(f.split('\\\\')[-1])\n",
    "if PG != 'C2v':\n",
    "    print('Your calculation is in point group', PG)\n",
    "crd, lineno_crd = mpr.read_coordinates(fcas, linenum=True)\n",
    "# get diatomic bond length\n",
    "G = chem.Geometry(crd, intype='DataFrame', units='bohr')\n",
    "G.toAngstrom()\n",
    "R = np.round(G.distance(0, 1), 6)  # round the bond length to 6 digits\n",
    "print('Bond length = {:.4f}'.format(R))\n",
    "caslist, lineno_cas = mpr.readMULTI(fcas, PG=PG, linenum=True)\n",
    "CAS = caslist[-1]   # assume the last CASSCF to be the relevant one"
   ]
  },
  {
   "cell_type": "code",
   "execution_count": 114,
   "metadata": {},
   "outputs": [],
   "source": [
    "casdf = CAS.results[['Irrep', 'Label', 'Energy', 'Term']].copy()\n",
    "casdf['S'] = [chem.spinname(x)-1 for x in CAS.results.Spin]\n",
    "casdf['Lz'] = np.round(np.sqrt(np.abs(CAS.results.LzLz)), 0).astype(int)\n",
    "spin = sorted(set(casdf.S))\n",
    "irreps = sorted(set(CAS.results.Irrep))\n",
    "lzvals = sorted(set(casdf.Lz))"
   ]
  },
  {
   "cell_type": "code",
   "execution_count": 115,
   "metadata": {},
   "outputs": [
    {
     "ename": "IndexError",
     "evalue": "index 1 is out of bounds for axis 0 with size 1",
     "output_type": "error",
     "traceback": [
      "\u001b[1;31m---------------------------------------------------------------------------\u001b[0m",
      "\u001b[1;31mIndexError\u001b[0m                                Traceback (most recent call last)",
      "\u001b[1;32m~\\AppData\\Local\\Temp\\2\\ipykernel_19328\\1746045909.py\u001b[0m in \u001b[0;36m<module>\u001b[1;34m\u001b[0m\n\u001b[0;32m      8\u001b[0m     \u001b[0mgrpi\u001b[0m \u001b[1;33m=\u001b[0m \u001b[0mdfg\u001b[0m\u001b[1;33m.\u001b[0m\u001b[0mgroupby\u001b[0m\u001b[1;33m(\u001b[0m\u001b[1;34m'Irrep'\u001b[0m\u001b[1;33m)\u001b[0m\u001b[1;33m\u001b[0m\u001b[1;33m\u001b[0m\u001b[0m\n\u001b[0;32m      9\u001b[0m     \u001b[0mlens\u001b[0m \u001b[1;33m=\u001b[0m \u001b[0mgrpi\u001b[0m\u001b[1;33m.\u001b[0m\u001b[0msize\u001b[0m\u001b[1;33m(\u001b[0m\u001b[1;33m)\u001b[0m\u001b[1;33m.\u001b[0m\u001b[0mvalues\u001b[0m\u001b[1;33m\u001b[0m\u001b[1;33m\u001b[0m\u001b[0m\n\u001b[1;32m---> 10\u001b[1;33m     \u001b[1;32mif\u001b[0m \u001b[0mlens\u001b[0m\u001b[1;33m[\u001b[0m\u001b[1;36m0\u001b[0m\u001b[1;33m]\u001b[0m \u001b[1;33m!=\u001b[0m \u001b[0mlens\u001b[0m\u001b[1;33m[\u001b[0m\u001b[1;36m1\u001b[0m\u001b[1;33m]\u001b[0m\u001b[1;33m:\u001b[0m\u001b[1;33m\u001b[0m\u001b[1;33m\u001b[0m\u001b[0m\n\u001b[0m\u001b[0;32m     11\u001b[0m         \u001b[0mprint\u001b[0m\u001b[1;33m(\u001b[0m\u001b[1;34m'Broken pair somewhere'\u001b[0m\u001b[1;33m)\u001b[0m\u001b[1;33m\u001b[0m\u001b[1;33m\u001b[0m\u001b[0m\n\u001b[0;32m     12\u001b[0m         \u001b[0mdisplay\u001b[0m\u001b[1;33m(\u001b[0m\u001b[0mdfg\u001b[0m\u001b[1;33m.\u001b[0m\u001b[0msort_values\u001b[0m\u001b[1;33m(\u001b[0m\u001b[1;34m'Energy'\u001b[0m\u001b[1;33m)\u001b[0m\u001b[1;33m)\u001b[0m\u001b[1;33m\u001b[0m\u001b[1;33m\u001b[0m\u001b[0m\n",
      "\u001b[1;31mIndexError\u001b[0m: index 1 is out of bounds for axis 0 with size 1"
     ]
    }
   ],
   "source": [
    "# check for proper pairing of degenerate states\n",
    "broken = False\n",
    "for grp, dfg in casdf.groupby(['S', 'Lz']):\n",
    "    if grp[1] == 0:\n",
    "        # ignore Sigma states\n",
    "        continue\n",
    "    # number in each irrep should be equal\n",
    "    grpi = dfg.groupby('Irrep')\n",
    "    lens = grpi.size().values\n",
    "    if lens[0] != lens[1]:\n",
    "        print('Broken pair somewhere')\n",
    "        display(dfg.sort_values('Energy'))\n",
    "        broken = True\n",
    "if not broken:\n",
    "    print('All Lambda state-pairs are closed')"
   ]
  },
  {
   "cell_type": "code",
   "execution_count": 116,
   "metadata": {
    "scrolled": true
   },
   "outputs": [
    {
     "name": "stdout",
     "output_type": "stream",
     "text": [
      "3 states with S = 1 (Singlet)\n"
     ]
    }
   ],
   "source": [
    "# order the CASSCF states by energy within each (S, irrep) group\n",
    "newdf = pd.DataFrame(columns=casdf.columns)\n",
    "for lbl, dg in casdf.groupby(['S', 'Irrep']):\n",
    "    dt = dg.copy().sort_values('Energy').reset_index(drop=True)\n",
    "    #display(dt)\n",
    "    newdf = newdf.append(dt)\n",
    "# report number of states in each spin multiplicity\n",
    "for S, grp in newdf.groupby('S'):\n",
    "    print(f'{len(grp)} states with S = {S} ({chem.SPINLABEL[S]})')"
   ]
  },
  {
   "cell_type": "code",
   "execution_count": 117,
   "metadata": {
    "scrolled": false
   },
   "outputs": [
    {
     "data": {
      "text/html": [
       "<div>\n",
       "<style scoped>\n",
       "    .dataframe tbody tr th:only-of-type {\n",
       "        vertical-align: middle;\n",
       "    }\n",
       "\n",
       "    .dataframe tbody tr th {\n",
       "        vertical-align: top;\n",
       "    }\n",
       "\n",
       "    .dataframe thead th {\n",
       "        text-align: right;\n",
       "    }\n",
       "</style>\n",
       "<table border=\"1\" class=\"dataframe\">\n",
       "  <thead>\n",
       "    <tr style=\"text-align: right;\">\n",
       "      <th></th>\n",
       "      <th>Irrep</th>\n",
       "      <th>Label</th>\n",
       "      <th>Energy</th>\n",
       "      <th>Term</th>\n",
       "      <th>S</th>\n",
       "      <th>Lz</th>\n",
       "    </tr>\n",
       "  </thead>\n",
       "  <tbody>\n",
       "    <tr>\n",
       "      <th>0</th>\n",
       "      <td>1</td>\n",
       "      <td>1.1</td>\n",
       "      <td>-660.933350</td>\n",
       "      <td>2Σ</td>\n",
       "      <td>1</td>\n",
       "      <td>0</td>\n",
       "    </tr>\n",
       "    <tr>\n",
       "      <th>0</th>\n",
       "      <td>2</td>\n",
       "      <td>1.2</td>\n",
       "      <td>-660.810538</td>\n",
       "      <td>2Π</td>\n",
       "      <td>1</td>\n",
       "      <td>1</td>\n",
       "    </tr>\n",
       "    <tr>\n",
       "      <th>1</th>\n",
       "      <td>2</td>\n",
       "      <td>2.2</td>\n",
       "      <td>-660.810538</td>\n",
       "      <td>2Π</td>\n",
       "      <td>1</td>\n",
       "      <td>1</td>\n",
       "    </tr>\n",
       "  </tbody>\n",
       "</table>\n",
       "</div>"
      ],
      "text/plain": [
       "  Irrep Label      Energy Term  S Lz\n",
       "0     1   1.1 -660.933350   2Σ  1  0\n",
       "0     2   1.2 -660.810538   2Π  1  1\n",
       "1     2   2.2 -660.810538   2Π  1  1"
      ]
     },
     "execution_count": 117,
     "metadata": {},
     "output_type": "execute_result"
    }
   ],
   "source": [
    "newdf"
   ]
  },
  {
   "cell_type": "code",
   "execution_count": 118,
   "metadata": {},
   "outputs": [],
   "source": [
    "def finish_line():\n",
    "    # only use record suffix \".2\" as recommended by D. Kreplin\n",
    "    global line, linebuf, nstprev, records, iblock, count, nstmax\n",
    "    suf = 2\n",
    "    recnum = (5 + S//2) * 1000 + irrep*100 + iblock + 0.1*suf\n",
    "    line += f'; save,{recnum};'\n",
    "    if nstati:\n",
    "        line += f' option,nstati={nstati}'\n",
    "    line += '};'\n",
    "    records.append(recnum)\n",
    "    iblock += 1\n",
    "    if nst > 1: \n",
    "        if nst != nstprev:\n",
    "            linebuf.append(f'nst={nst}')\n",
    "            nstprev = nst\n",
    "        line += ' savemany'\n",
    "    else:\n",
    "        line += ' save1'\n",
    "    linebuf.append(line)\n",
    "    count += nst\n",
    "    nstmax = max(nstmax, nst)\n",
    "    return"
   ]
  },
  {
   "cell_type": "code",
   "execution_count": 119,
   "metadata": {},
   "outputs": [],
   "source": [
    "linebuf = ['! Code below generated by build_split_mrci_input.ipynb using style \"{:s}\"'.format(style),\n",
    "           '', 'ecas = energy', 'k=0']  # lines to be added to the Molpro CASSCF input file"
   ]
  },
  {
   "cell_type": "code",
   "execution_count": 120,
   "metadata": {
    "scrolled": false
   },
   "outputs": [],
   "source": [
    "if style == 'Lz':\n",
    "    records = []  # record labels for saving states\n",
    "    maxit = 60  # for the MRCI\n",
    "    baseline = '{ci,' + f'maxit={maxit}; '\n",
    "    count = 0  # count of states (to be compared with input CASSCF count)\n",
    "    nstprev = 1\n",
    "    nstmax = 0\n",
    "    for S in spin:\n",
    "        spindf = newdf[newdf.S == S]\n",
    "        for irrep in irreps:\n",
    "            irrdf = spindf[spindf.Irrep == irrep].copy().reset_index(drop=True)\n",
    "            #display(irrdf)\n",
    "            nstati = len(irrdf)\n",
    "            iblock = 1   # suffix for record label\n",
    "            for lz in lzvals:\n",
    "                # build one line of input\n",
    "                lzdf = irrdf[irrdf.Lz == lz]\n",
    "                nst = len(lzdf)\n",
    "                count += nst\n",
    "                nstmax = max(nstmax, nst)\n",
    "                if nst < 1:\n",
    "                    continue\n",
    "                line = baseline + f'wf,sym={irrep},spin={S}; state,{nst}'\n",
    "                for i in lzdf.index:\n",
    "                    line += ',' + '{:d}'.format(int(i) + 1)\n",
    "                recnum = (5 + S//2)*1000 + irrep*100 + iblock + 0.2\n",
    "                records.append(recnum)\n",
    "                iblock += 1\n",
    "                line += f'; save,{recnum}; option,nstati={nstati}' + '};'\n",
    "                if nst == 1:\n",
    "                    line += ' save1;'\n",
    "                else:\n",
    "                    if nst != nstprev:\n",
    "                        linebuf.append(f'nst={nst}')\n",
    "                        nstprev = nst\n",
    "                    line += ' savemany;'\n",
    "                # add the comment\n",
    "                pre = '{:d}-'.format(S + 1)\n",
    "                if lz == 0:\n",
    "                    if irrep == 1:\n",
    "                        line += f'  ! {pre}Sigma+'\n",
    "                    elif irrep == 4:\n",
    "                        line += f'  ! {pre}Sigma-'\n",
    "                    else:\n",
    "                        chem.print_err('', f'Bad irrep = {irrep} for Lz = 0')\n",
    "                else:\n",
    "                    line += f'  ! {pre}{mpr.LAMBDA[lz].title()}'\n",
    "                linebuf.append(line)"
   ]
  },
  {
   "cell_type": "code",
   "execution_count": 121,
   "metadata": {},
   "outputs": [],
   "source": [
    "def finish_line_old():\n",
    "    global line, linebuf, nstprev, records, iblock, count, nstmax\n",
    "    suf = max(S, 1)  # molpro seems to ignore suffix=0\n",
    "    recnum = 5000 + irrep*100 + iblock + 0.1*suf\n",
    "    line += f'; save,{recnum};'\n",
    "    if nstati:\n",
    "        line += f' option,nstati={nstati}'\n",
    "    line += '};'\n",
    "    records.append(recnum)\n",
    "    iblock += 1\n",
    "    if nst > 1: \n",
    "        if nst != nstprev:\n",
    "            linebuf.append(f'nst={nst}')\n",
    "            nstprev = nst\n",
    "        line += ' savemany'\n",
    "    else:\n",
    "        line += ' save1'\n",
    "    linebuf.append(line)\n",
    "    count += nst\n",
    "    nstmax = max(nstmax, nst)\n",
    "    return"
   ]
  },
  {
   "cell_type": "code",
   "execution_count": 122,
   "metadata": {
    "scrolled": false
   },
   "outputs": [],
   "source": [
    "if style == 'split':\n",
    "    # assume that irreps 2 and 3 are already equal\n",
    "    records = []  # record labels for saving states\n",
    "    maxit = 60  # for the MRCI\n",
    "    baseline = '{ci,' + f'maxit={maxit}; '\n",
    "    count = 0  # count of states (to be compared with input CASSCF count)\n",
    "    nstprev = 1\n",
    "    nstmax = 0\n",
    "       \n",
    "    for S in spin:\n",
    "        spindf = newdf[newdf.S == S]\n",
    "        nstate = {}\n",
    "        irrdf = {}\n",
    "        for irrep in irreps:\n",
    "            # count the states in each irrep\n",
    "            tdf = spindf[spindf.Irrep == irrep].copy()\n",
    "            tdf = tdf.sort_values('Energy').reset_index(drop=True)\n",
    "            nstate[irrep] = len(tdf)\n",
    "            irrdf[irrep] = tdf\n",
    "        for irrep in irreps:\n",
    "            iblock = 1   # part of record number\n",
    "            nstati = 0   # don't need nstati\n",
    "            if (irrep in [2, 3]) or (nstate[irrep] < nstate[5-irrep]):\n",
    "                # easy case\n",
    "                nst = nstate[irrep]\n",
    "                line = baseline + f'wf,sym={irrep},spin={S}; state,{nst}'\n",
    "            else:\n",
    "                # irrep 1 or 4, larger block\n",
    "                # split this block; try to keep Lz > 0 in the larger block\n",
    "                otherblock = nstate[5-irrep]  # the size of the other irrep \n",
    "                nstati = nstate[irrep]\n",
    "                tdf = irrdf[irrep]\n",
    "                # put Lz > 0 first, then sigmas\n",
    "                iord = list(tdf[tdf.Lz > 0].index)\n",
    "                iord = iord + list(tdf[tdf.Lz == 0].index)\n",
    "                # make a block of same size as 'otherblock'\n",
    "                idx = iord[:otherblock]\n",
    "                iord = iord[otherblock:]\n",
    "                nst = otherblock\n",
    "                line = baseline + f'wf,sym={irrep},spin={S}; state,{nst}'\n",
    "                for i in idx:\n",
    "                    line += ',{:d}'.format(i+1)\n",
    "                finish_line()\n",
    "                # put the rest in a second block\n",
    "                nst = len(iord)\n",
    "                line = baseline + f'wf,sym={irrep},spin={S}; state,{nst}'\n",
    "                for i in iord:\n",
    "                    line += ',{:d}'.format(i+1)\n",
    "            finish_line()        \n",
    " "
   ]
  },
  {
   "cell_type": "code",
   "execution_count": 123,
   "metadata": {
    "scrolled": false
   },
   "outputs": [],
   "source": [
    "if style == 'irrep':\n",
    "    # simple treatment, one block for each irrep \n",
    "    records = []  # record labels for saving states\n",
    "    maxit = 60  # for the MRCI\n",
    "    baseline = '{ci,' + f'maxit={maxit}; '\n",
    "    count = 0  # count of states (to be compared with input CASSCF count)\n",
    "    nstprev = 1\n",
    "    nstmax = 0\n",
    "       \n",
    "    for S in spin:\n",
    "        spindf = newdf[newdf.S == S]\n",
    "        nstate = {}\n",
    "        irrdf = {}\n",
    "        for irrep in irreps:\n",
    "            # count the states in each irrep\n",
    "            tdf = spindf[spindf.Irrep == irrep].copy()\n",
    "            tdf = tdf.sort_values('Energy').reset_index(drop=True)\n",
    "            nstate[irrep] = len(tdf)\n",
    "            irrdf[irrep] = tdf\n",
    "        for irrep in irreps:\n",
    "            iblock = 1   # part of record number\n",
    "            nstati = 0   # don't need nstati\n",
    "            nst = nstate[irrep]\n",
    "            line = baseline + f'wf,sym={irrep},spin={S}; state,{nst}'\n",
    "            finish_line()         "
   ]
  },
  {
   "cell_type": "code",
   "execution_count": 124,
   "metadata": {
    "scrolled": false
   },
   "outputs": [],
   "source": [
    "if style == 'single':\n",
    "    # each MRCI has only one root\n",
    "    records = []  # record labels for saving states\n",
    "    maxit = 60  # for the MRCI\n",
    "    baseline = '{ci,' + f'maxit={maxit}; '\n",
    "    count = 0  # count of states (to be compared with input CASSCF count)\n",
    "    nstprev = 1\n",
    "    nstmax = 0\n",
    "    \n",
    "    nst = 1\n",
    "    for S in spin:\n",
    "        spindf = newdf[newdf.S == S]\n",
    "        nstate = {}\n",
    "        irrdf = {}\n",
    "        for irrep in irreps:\n",
    "            tdf = spindf[spindf.Irrep == irrep]\n",
    "            nstati = len(tdf)\n",
    "            iblock = 1   # part of record number\n",
    "            for i in range(nstati):\n",
    "                line = baseline + f'wf,sym={irrep},spin={S}; state,1,{i+1}'\n",
    "                finish_line()         "
   ]
  },
  {
   "cell_type": "code",
   "execution_count": 125,
   "metadata": {},
   "outputs": [],
   "source": [
    "linebuf.append('\\ntable,hlsdiag,lzlz,ecas,eref,ediff\\n')"
   ]
  },
  {
   "cell_type": "code",
   "execution_count": 126,
   "metadata": {},
   "outputs": [],
   "source": [
    "linebuf.append('! spin-orbit CI\\n{ci; hlsmat,ecp, \\\\')"
   ]
  },
  {
   "cell_type": "code",
   "execution_count": 127,
   "metadata": {},
   "outputs": [],
   "source": [
    "# add the record numbers to the SO-CI section\n",
    "nline = 10  # number of records per line\n",
    "line = None\n",
    "for i, rec in enumerate(records):\n",
    "    if i % nline == 0:\n",
    "        if line is not None:\n",
    "            if i == len(records) - 1:\n",
    "                # terminate with semicolon\n",
    "                linebuf.append(line + '; \\\\')\n",
    "            else:\n",
    "                # terminate with comma\n",
    "                linebuf.append(line + ', \\\\')\n",
    "        line = '    '\n",
    "    else:\n",
    "        line += ','\n",
    "    line += f'{rec}'\n",
    "linebuf.append(line)"
   ]
  },
  {
   "cell_type": "code",
   "execution_count": 128,
   "metadata": {},
   "outputs": [],
   "source": [
    "linebuf.append('    options,matel=1; print,vls=0,hls=0}')"
   ]
  },
  {
   "cell_type": "code",
   "execution_count": 129,
   "metadata": {},
   "outputs": [],
   "source": [
    "procs_text = '''\n",
    "PROC save1\n",
    "    k=k+1\n",
    "    hlsdiag(k)=energd\n",
    "    eref(k)=energr\n",
    "    ediff(k)=energr-ecas(k)\n",
    "ENDPROC\n",
    "\n",
    "PROC savemany\n",
    "    do h=1,NST\n",
    "        k=k+1\n",
    "        hlsdiag(k)=energd4(h)\n",
    "        eref(k)=energr(h)\n",
    "        ediff(k)=energr(h)-ecas(k)\n",
    "    enddo\n",
    "ENDPROC\n",
    "'''"
   ]
  },
  {
   "cell_type": "code",
   "execution_count": 130,
   "metadata": {},
   "outputs": [
    {
     "name": "stdout",
     "output_type": "stream",
     "text": [
      "! Code below generated by build_split_mrci_input.ipynb using style \"Lz\"\n",
      "\n",
      "ecas = energy\n",
      "k=0\n",
      "{ci,maxit=60; wf,sym=1,spin=1; state,1,1; save,5101.2; option,nstati=1}; save1;  ! 2-Sigma+\n",
      "nst=2\n",
      "{ci,maxit=60; wf,sym=2,spin=1; state,2,1,2; save,5201.2; option,nstati=2}; savemany;  ! 2-Pi   \n",
      "\n",
      "table,hlsdiag,lzlz,ecas,eref,ediff\n",
      "\n",
      "! spin-orbit CI\n",
      "{ci; hlsmat,ecp, \\\n",
      "    5101.2,5201.2\n",
      "    options,matel=1; print,vls=0,hls=0}\n",
      "\n",
      "PROC save1\n",
      "    k=k+1\n",
      "    hlsdiag(k)=energd\n",
      "    eref(k)=energr\n",
      "    ediff(k)=energr-ecas(k)\n",
      "ENDPROC\n",
      "\n",
      "PROC savemany\n",
      "    do h=1,NST\n",
      "        k=k+1\n",
      "        hlsdiag(k)=energd4(h)\n",
      "        eref(k)=energr(h)\n",
      "        ediff(k)=energr(h)-ecas(k)\n",
      "    enddo\n",
      "ENDPROC\n",
      "\n"
     ]
    }
   ],
   "source": [
    "linebuf.append(procs_text)\n",
    "print('\\n'.join(linebuf))"
   ]
  },
  {
   "cell_type": "code",
   "execution_count": 131,
   "metadata": {},
   "outputs": [
    {
     "name": "stdout",
     "output_type": "stream",
     "text": [
      "Lz values look OK\n"
     ]
    }
   ],
   "source": [
    "# check for non-integer Lz values\n",
    "cruft = casdf.Lz - np.round(casdf.Lz, 0)\n",
    "if cruft.any():\n",
    "    print('*** There are non-integer values of Lz')\n",
    "else:\n",
    "    print('Lz values look OK')"
   ]
  },
  {
   "cell_type": "code",
   "execution_count": null,
   "metadata": {},
   "outputs": [],
   "source": [
    "if count != len(casdf):\n",
    "    print(f'*** Error:  there are {len(casdf)} CASSCF states but {count} CI states! ***')\n",
    "else:\n",
    "    print(f'Paste the clipboard into your Molpro input file to calculate {count} MRCI states.')\n",
    "    pyperclip.copy('\\n'.join(linebuf))\n",
    "    print(f'There are {len(records)} MRCI calculations.')\n",
    "    print(f'The largest has {nstmax} roots.')\n",
    "    print(f'CASSCF results were taken from:  {fcas}')\n",
    "    print(f'Blocking style is \"{style}\"')\n",
    "    print('Bond length = {:.4f}'.format(R))"
   ]
  },
  {
   "cell_type": "code",
   "execution_count": null,
   "metadata": {},
   "outputs": [],
   "source": []
  },
  {
   "cell_type": "code",
   "execution_count": null,
   "metadata": {},
   "outputs": [],
   "source": []
  },
  {
   "cell_type": "markdown",
   "metadata": {},
   "source": [
    "### LQUANT help (C2v), if desired"
   ]
  },
  {
   "cell_type": "code",
   "execution_count": null,
   "metadata": {},
   "outputs": [],
   "source": [
    "# Specify the numbers of terms in the dict below\n",
    "terms = {'Sigma+': 0, 'Sigma-': 2, 'Pi': 1, 'Delta': 2, 'Phi': 1, 'Gamma': 0, 'H': 0}"
   ]
  },
  {
   "cell_type": "code",
   "execution_count": null,
   "metadata": {},
   "outputs": [],
   "source": [
    "print('Input:')\n",
    "for k, v in terms.items():\n",
    "    print('\\t{:<7s} {:2d}'.format(k, v))\n",
    "nterm = np.sum([v for k, v in terms.items()])\n",
    "print(f'{nterm} terms')\n",
    "lquant = {irr: ['lquant'] for irr in [1,2,3,4]}\n",
    "lquant[1] += ['0']*terms['Sigma+'] + ['2']*terms['Delta'] + ['4']*terms['Gamma']\n",
    "lquant[2] += ['1']*terms['Pi'] + ['3']*terms['Phi'] + ['5']*terms['H']\n",
    "lquant[3] = lquant[2]\n",
    "lquant[4] += ['0']*terms['Sigma-'] + ['2']*terms['Delta'] + ['4']*terms['Gamma']\n",
    "count = [len(v)-1 for k, v in lquant.items()]\n",
    "ntot = np.sum(count)\n",
    "print(f'{ntot} MRCI states')\n",
    "print('In order by irrep:')\n",
    "for k, v in lquant.items():\n",
    "    s = ','.join(v)\n",
    "    print(f'state,{count[int(k)-1]}; {s}')"
   ]
  },
  {
   "cell_type": "code",
   "execution_count": null,
   "metadata": {},
   "outputs": [],
   "source": []
  },
  {
   "cell_type": "code",
   "execution_count": null,
   "metadata": {},
   "outputs": [],
   "source": []
  }
 ],
 "metadata": {
  "kernelspec": {
   "display_name": "Python 3 (ipykernel)",
   "language": "python",
   "name": "python3"
  },
  "language_info": {
   "codemirror_mode": {
    "name": "ipython",
    "version": 3
   },
   "file_extension": ".py",
   "mimetype": "text/x-python",
   "name": "python",
   "nbconvert_exporter": "python",
   "pygments_lexer": "ipython3",
   "version": "3.7.12"
  }
 },
 "nbformat": 4,
 "nbformat_minor": 4
}
