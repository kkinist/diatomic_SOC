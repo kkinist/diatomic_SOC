{
 "cells": [
  {
   "cell_type": "code",
   "execution_count": 1,
   "metadata": {},
   "outputs": [],
   "source": [
    "#!/usr/bin/env python3\n",
    "\"\"\"\n",
    "Read SO-CI output from Molpro.\n",
    "Compare my eigenvalues/vectors with those printed by Molpro\n",
    "KKI 5/25/2023\n",
    "\"\"\"\n",
    "import re, sys, copy, glob, os\n",
    "import numpy as np\n",
    "import pandas as pd\n",
    "import matplotlib.pyplot as plt\n",
    "sys.path.insert(0, '../atomic_SOC')\n",
    "import molpro_subs as mpr\n",
    "import chem_subs as chem\n",
    "\n",
    "pd.set_option('display.width', 1000)"
   ]
  },
  {
   "cell_type": "code",
   "execution_count": 2,
   "metadata": {},
   "outputs": [
    {
     "name": "stdout",
     "output_type": "stream",
     "text": [
      "SO-CI file: ../UMemphis/mgcl_small4.pro\n"
     ]
    }
   ],
   "source": [
    "fsoci = 'ac5z_hybB_r2p2444_lz.pro'\n",
    "#soci = '../UMemphis/mgcl-equil-karl-block.pro'\n",
    "fsoci = '../UMemphis/no.pro'\n",
    "fsoci = '../UMemphis/mgcl_small4.pro'\n",
    "print('SO-CI file: {:s}'.format(fsoci))"
   ]
  },
  {
   "cell_type": "code",
   "execution_count": 3,
   "metadata": {
    "scrolled": false
   },
   "outputs": [
    {
     "name": "stdout",
     "output_type": "stream",
     "text": [
      "Computational group = C2v\n",
      "CASSCF states:\n",
      "     3 Doublet\n",
      "Replacing MRCI+Q energies by HLSDIAG values\n"
     ]
    }
   ],
   "source": [
    "# read SO-CI\n",
    "SOCI = mpr.fullmatSOCI(fsoci, hybrid=True)"
   ]
  },
  {
   "cell_type": "code",
   "execution_count": 4,
   "metadata": {},
   "outputs": [
    {
     "name": "stdout",
     "output_type": "stream",
     "text": [
      "  1      -0.06      -0.06      -0.00\n",
      "  2      -0.06      -0.06      -0.00\n",
      "  3   26379.83   26379.83       0.00\n",
      "  4   26379.83   26379.83       0.00\n",
      "  5   26424.03   26424.03      -0.00\n",
      "  6   26424.03   26424.03       0.00\n"
     ]
    }
   ],
   "source": [
    "# Compare eigenvalues\n",
    "np.set_printoptions(suppress=True)\n",
    "dif = SOCI.vals - SOCI.SOe.energies.Eshift.values\n",
    "for irow, row in SOCI.SOe.energies.iterrows():\n",
    "    print('{:3.0f}  {:9.2f}  {:9.2f}  {:9.2f}'.format(row.Nr, SOCI.vals[irow], row.Eshift, dif[irow]))"
   ]
  },
  {
   "cell_type": "code",
   "execution_count": 5,
   "metadata": {},
   "outputs": [
    {
     "name": "stdout",
     "output_type": "stream",
     "text": [
      "0\n",
      "Mpro\t [  0. 100.   0.   0.   0.   0.]\n",
      "mine\t [99.94  0.06  0.    0.    0.    0.  ]\n",
      "diff\t *BAD* [ 99.94 -99.94   0.     0.     0.     0.  ]\n",
      "1\n",
      "Mpro\t [100.   0.   0.   0.   0.   0.]\n",
      "mine\t [ 0.06 99.94  0.    0.    0.    0.  ]\n",
      "diff\t *BAD* [-99.94  99.94   0.     0.     0.     0.  ]\n",
      "2\n",
      "Mpro\t [ 0.  0. 50.  0. 50.  0.]\n",
      "mine\t [ 0.  0.  0. 50.  0. 50.]\n",
      "diff\t *BAD* [  0.   0. -50.  50. -50.  50.]\n",
      "3\n",
      "Mpro\t [ 0.  0.  0. 50.  0. 50.]\n",
      "mine\t [ 0.  0. 50.  0. 50.  0.]\n",
      "diff\t *BAD* [  0.   0.  50. -50.  50. -50.]\n",
      "4\n",
      "Mpro\t [ 0.  0. 50.  0. 50.  0.]\n",
      "mine\t [ 0.    0.   47.36  2.64 47.36  2.64]\n",
      "diff\t *BAD* [ 0.    0.   -2.64  2.64 -2.64  2.64]\n",
      "5\n",
      "Mpro\t [ 0.  0.  0. 50.  0. 50.]\n",
      "mine\t [ 0.    0.    2.64 47.36  2.64 47.36]\n",
      "diff\t *BAD* [ 0.    0.    2.64 -2.64  2.64 -2.64]\n"
     ]
    }
   ],
   "source": [
    "# Compare weights\n",
    "SOcompos = mpr.readSOcompos(fsoci)[0][-1]\n",
    "diff = SOCI.vecsq*100 - SOcompos.pct\n",
    "# columns of SOcompos.pct are SO states (rows are basis states)\n",
    "def diff_ok(d, tol=0.02):\n",
    "    s = np.abs(d).sum()\n",
    "    if s < tol:\n",
    "        return 'OK'\n",
    "    else:\n",
    "        return '*BAD*'\n",
    "for ivec in range(SOCI.dimen):\n",
    "    print(ivec)\n",
    "    print('Mpro\\t', np.round(SOcompos.pct[:,ivec], 2))\n",
    "    print('mine\\t', np.round(SOCI.vecsq[:,ivec]*100, 2))\n",
    "    d = diff[:,ivec]\n",
    "    print('diff\\t', diff_ok(d), np.round(d, 2))\n"
   ]
  },
  {
   "cell_type": "code",
   "execution_count": 6,
   "metadata": {},
   "outputs": [
    {
     "name": "stdout",
     "output_type": "stream",
     "text": [
      "0\n",
      "Mpro\t [ 0.001+0.j     1.   +0.j     0.001+0.j    -0.   +0.j    -0.   -0.001j\n",
      " -0.   -0.j   ]\n",
      "mine\t [ 1.   +0.j    -0.025+0.j    -0.   -0.j    -0.001+0.j     0.   +0.j\n",
      "  0.   -0.001j]\n",
      "dot\t *BAD* (-0.024+0j)\n",
      "1\n",
      "Mpro\t [ 1.   +0.j    -0.001+0.j    -0.   +0.j    -0.001+0.j     0.   +0.j\n",
      "  0.   -0.001j]\n",
      "mine\t [ 0.025+0.j     1.   +0.j     0.001+0.j    -0.   -0.j    -0.   -0.001j\n",
      " -0.   -0.j   ]\n",
      "dot\t *BAD* (0.024+0j)\n",
      "2\n",
      "Mpro\t [-0.   +0.j     0.002+0.j    -0.707+0.j    -0.   +0.j     0.   +0.707j\n",
      "  0.   -0.j   ]\n",
      "mine\t [-0.002+0.j     0.   -0.j     0.   +0.j    -0.707-0.j    -0.   -0.j\n",
      " -0.   -0.707j]\n",
      "dot\t *BAD* 0j\n",
      "3\n",
      "Mpro\t [ 0.002+0.j     0.   +0.j    -0.   +0.j     0.707+0.j     0.   +0.j\n",
      "  0.   +0.707j]\n",
      "mine\t [ 0.   +0.j     0.002+0.j    -0.707+0.j     0.   +0.j    -0.   +0.707j\n",
      "  0.   -0.j   ]\n",
      "dot\t *BAD* -0j\n",
      "4\n",
      "Mpro\t [-0.   +0.j    -0.   +0.j     0.707+0.j     0.   +0.j     0.   +0.707j\n",
      "  0.   +0.j   ]\n",
      "mine\t [ 0.   +0.j    -0.   +0.j     0.688-0.019j  0.102-0.126j  0.019+0.688j\n",
      " -0.126-0.102j]\n",
      "dot\t *BAD* (0.973-0.027j)\n",
      "5\n",
      "Mpro\t [ 0.   +0.j     0.   +0.j     0.   +0.j     0.707+0.j    -0.   +0.j\n",
      " -0.   -0.707j]\n",
      "mine\t [ 0.   +0.j     0.   +0.j    -0.154-0.053j  0.592-0.351j  0.053-0.154j\n",
      " -0.351-0.592j]\n",
      "dot\t *BAD* (0.837-0.496j)\n"
     ]
    }
   ],
   "source": [
    "# Compare eigenvectors\n",
    "diff = SOCI.vec - SOCI.SOvec\n",
    "def dot_ok(p, tol=0.001):\n",
    "    # given a dot product from numpy.vdot(), return \n",
    "    #   'OK' if result is close to +/-1, else '*BAD*'\n",
    "    r = np.absolute(p)\n",
    "    re = np.real(p)\n",
    "    x = abs(1 - abs(re))\n",
    "    if x < tol:\n",
    "        return 'OK'\n",
    "    else:\n",
    "        return '*BAD*'\n",
    "for ivec in range(SOCI.dimen):\n",
    "    print(ivec)\n",
    "    provec = SOCI.SOvec[:,ivec]\n",
    "    print('Mpro\\t', np.round(provec, 3))\n",
    "    myvec = SOCI.vec[:,ivec]\n",
    "    print('mine\\t', np.round(myvec, 3))\n",
    "    p = np.vdot(provec, myvec)\n",
    "    print('dot\\t', dot_ok(p), np.round(p, 3))"
   ]
  },
  {
   "cell_type": "code",
   "execution_count": 21,
   "metadata": {},
   "outputs": [
    {
     "data": {
      "text/plain": [
       "array([[ 0.99968855+0.j        ,  0.02490942+0.j        ,\n",
       "        -0.00152412+0.j        ,  0.        +0.j        ,\n",
       "         0.        +0.j        ,  0.        +0.j        ],\n",
       "       [-0.02490942+0.j        ,  0.99968855+0.j        ,\n",
       "         0.        -0.j        ,  0.00152412+0.j        ,\n",
       "        -0.        +0.j        ,  0.        +0.j        ],\n",
       "       [-0.00002685-0.j        ,  0.00107738+0.j        ,\n",
       "         0.        +0.j        , -0.70710596+0.j        ,\n",
       "         0.68793239-0.0189363j , -0.15371816-0.05254686j],\n",
       "       [-0.00107738+0.j        , -0.00002685-0.j        ,\n",
       "        -0.70710596-0.j        ,  0.        +0.j        ,\n",
       "         0.10202135-0.12642029j,  0.59206752-0.35080708j],\n",
       "       [ 0.        +0.00002685j, -0.        -0.00107738j,\n",
       "        -0.        -0.j        , -0.        +0.70710596j,\n",
       "         0.0189363 +0.68793239j,  0.05254686-0.15371816j],\n",
       "       [ 0.        -0.00107738j, -0.        -0.00002685j,\n",
       "        -0.        -0.70710596j,  0.        -0.j        ,\n",
       "        -0.12642029-0.10202135j, -0.35080708-0.59206752j]])"
      ]
     },
     "execution_count": 21,
     "metadata": {},
     "output_type": "execute_result"
    }
   ],
   "source": [
    "SOCI.vec"
   ]
  },
  {
   "cell_type": "code",
   "execution_count": 29,
   "metadata": {},
   "outputs": [],
   "source": [
    "matso = SOCI.matrix\n",
    "mdif = matso - np.conj(matso).T\n",
    "for x in mdif.flatten():\n",
    "    a = np.absolute(x)\n",
    "    if a > 0:\n",
    "        print(a)"
   ]
  },
  {
   "cell_type": "code",
   "execution_count": 30,
   "metadata": {},
   "outputs": [
    {
     "data": {
      "text/plain": [
       "'../UMemphis/mgcl_small4.pro'"
      ]
     },
     "execution_count": 30,
     "metadata": {},
     "output_type": "execute_result"
    }
   ],
   "source": [
    "fsoci"
   ]
  },
  {
   "cell_type": "code",
   "execution_count": null,
   "metadata": {},
   "outputs": [],
   "source": []
  }
 ],
 "metadata": {
  "kernelspec": {
   "display_name": "Python 3 (ipykernel)",
   "language": "python",
   "name": "python3"
  },
  "language_info": {
   "codemirror_mode": {
    "name": "ipython",
    "version": 3
   },
   "file_extension": ".py",
   "mimetype": "text/x-python",
   "name": "python",
   "nbconvert_exporter": "python",
   "pygments_lexer": "ipython3",
   "version": "3.7.12"
  }
 },
 "nbformat": 4,
 "nbformat_minor": 4
}
